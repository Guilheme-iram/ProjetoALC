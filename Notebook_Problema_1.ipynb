{
 "cells": [
  {
   "cell_type": "markdown",
   "id": "1e79b5fc-15ed-479c-895a-812fb591aa69",
   "metadata": {},
   "source": [
    "# Projeto final de Disciplia\n",
    "### Dísciplina: Álgebra Linear Computacional\n",
    "### Orientador: Prof. Miguel Aroztegui\n",
    "### Autores: Guilherme Iram, Guilherme Pujoni"
   ]
  },
  {
   "cell_type": "markdown",
   "id": "af8232d5-2a17-452f-a841-16205e7cf43b",
   "metadata": {},
   "source": [
    "## 1 - Introdução"
   ]
  },
  {
   "cell_type": "markdown",
   "id": "8867011b-bb11-41d6-8489-8ea4a12d7347",
   "metadata": {},
   "source": [
    "## 2 - Métodos"
   ]
  },
  {
   "attachments": {
    "0e738977-a932-4625-affe-c66eea6760fe.png": {
     "image/png": "[encoded data removed]"
    }
   },
   "cell_type": "markdown",
   "id": "f47abea6-14a0-461c-9d19-95f05c06602d",
   "metadata": {
    "tags": []
   },
   "source": [
    "![image.png](attachment:0e738977-a932-4625-affe-c66eea6760fe.png)"
   ]
  },
  {
   "cell_type": "markdown",
   "id": "093ccf59-666d-4bee-9954-90c330c69d31",
   "metadata": {
    "tags": []
   },
   "source": [
    "## 3 - Código"
   ]
  },
  {
   "cell_type": "markdown",
   "id": "6a7b89ec-2f36-40da-b9c8-fab4767f3937",
   "metadata": {},
   "source": [
    "## 3.1 - Carregando as bibliotecas e o dataset"
   ]
  },
  {
   "cell_type": "code",
   "execution_count": 1,
   "id": "44f2fab0-f738-4344-a6bb-46fadfef7733",
   "metadata": {},
   "outputs": [],
   "source": [
    "import pandas as pd\n",
    "import numpy as np\n",
    "import matplotlib.pyplot as plt\n",
    "%matplotlib inline"
   ]
  },
  {
   "cell_type": "code",
   "execution_count": 2,
   "id": "618bc88a-2227-4094-b383-a1d4cfc51f75",
   "metadata": {},
   "outputs": [],
   "source": [
    "dados = pd.read_csv(\"dataset01.txt\",sep=' ')"
   ]
  },
  {
   "cell_type": "code",
   "execution_count": 3,
   "id": "05a35ca0-fec0-416a-859e-e579c7420a8a",
   "metadata": {},
   "outputs": [
    {
     "data": {
      "text/html": [
       "<div>\n",
       "<style scoped>\n",
       "    .dataframe tbody tr th:only-of-type {\n",
       "        vertical-align: middle;\n",
       "    }\n",
       "\n",
       "    .dataframe tbody tr th {\n",
       "        vertical-align: top;\n",
       "    }\n",
       "\n",
       "    .dataframe thead th {\n",
       "        text-align: right;\n",
       "    }\n",
       "</style>\n",
       "<table border=\"1\" class=\"dataframe\">\n",
       "  <thead>\n",
       "    <tr style=\"text-align: right;\">\n",
       "      <th></th>\n",
       "      <th>x</th>\n",
       "      <th>y</th>\n",
       "    </tr>\n",
       "  </thead>\n",
       "  <tbody>\n",
       "    <tr>\n",
       "      <th>0</th>\n",
       "      <td>-10.00</td>\n",
       "      <td>-0.15</td>\n",
       "    </tr>\n",
       "    <tr>\n",
       "      <th>1</th>\n",
       "      <td>-9.59</td>\n",
       "      <td>0.56</td>\n",
       "    </tr>\n",
       "    <tr>\n",
       "      <th>2</th>\n",
       "      <td>-9.18</td>\n",
       "      <td>-0.33</td>\n",
       "    </tr>\n",
       "    <tr>\n",
       "      <th>3</th>\n",
       "      <td>-8.78</td>\n",
       "      <td>0.26</td>\n",
       "    </tr>\n",
       "    <tr>\n",
       "      <th>4</th>\n",
       "      <td>-8.37</td>\n",
       "      <td>-0.26</td>\n",
       "    </tr>\n",
       "  </tbody>\n",
       "</table>\n",
       "</div>"
      ],
      "text/plain": [
       "       x     y\n",
       "0 -10.00 -0.15\n",
       "1  -9.59  0.56\n",
       "2  -9.18 -0.33\n",
       "3  -8.78  0.26\n",
       "4  -8.37 -0.26"
      ]
     },
     "execution_count": 3,
     "metadata": {},
     "output_type": "execute_result"
    }
   ],
   "source": [
    "dados.head()"
   ]
  },
  {
   "cell_type": "code",
   "execution_count": 4,
   "id": "830a3464-300e-4735-bbd7-245d5faa07c6",
   "metadata": {},
   "outputs": [
    {
     "name": "stdout",
     "output_type": "stream",
     "text": [
      "<class 'pandas.core.frame.DataFrame'>\n",
      "RangeIndex: 50 entries, 0 to 49\n",
      "Data columns (total 2 columns):\n",
      " #   Column  Non-Null Count  Dtype  \n",
      "---  ------  --------------  -----  \n",
      " 0   x       50 non-null     float64\n",
      " 1   y       50 non-null     float64\n",
      "dtypes: float64(2)\n",
      "memory usage: 928.0 bytes\n"
     ]
    }
   ],
   "source": [
    "dados.info()"
   ]
  },
  {
   "cell_type": "markdown",
   "id": "472e3102-74cf-4fa8-b96a-983419ba9950",
   "metadata": {},
   "source": [
    "## 3.2 - Análise exploratória e vizualização dos dados"
   ]
  },
  {
   "cell_type": "code",
   "execution_count": 5,
   "id": "32bc4a8b-d3e6-49b0-bb9c-f30c9be69af5",
   "metadata": {},
   "outputs": [],
   "source": [
    "X, y = np.array(dados['x']), np.array(dados['y'])\n",
    "X = X.reshape(-1, 1)\n",
    "y = y.reshape(-1, 1)"
   ]
  },
  {
   "cell_type": "code",
   "execution_count": 6,
   "id": "63f4387a-74de-4876-b923-5c25c5e57a29",
   "metadata": {},
   "outputs": [
    {
     "data": {
      "image/png": "[encoded data removed]",
      "text/plain": [
       "<Figure size 576x360 with 1 Axes>"
      ]
     },
     "metadata": {
      "needs_background": "light"
     },
     "output_type": "display_data"
    }
   ],
   "source": [
    "plt.figure(figsize=(8, 5))\n",
    "plt.title(\"Gráfico de dispersão dos dados\", fontsize=18)\n",
    "plt.xlabel(\"X\", fontsize=16)\n",
    "plt.ylabel(\"Y\", fontsize=16)\n",
    "plt.plot(X, y, '*b')\n",
    "plt.show()"
   ]
  },
  {
   "cell_type": "markdown",
   "id": "4063aa86-ae1c-47c7-bccc-ac6e08f58347",
   "metadata": {},
   "source": [
    "## 3.3 - Aplicando Regressão Polinomial"
   ]
  },
  {
   "cell_type": "code",
   "execution_count": 7,
   "id": "a5ffca72-a565-4261-baf3-bb8fb4987ff2",
   "metadata": {},
   "outputs": [],
   "source": [
    "def fpred(x, teta, u):\n",
    "    l = []\n",
    "    for i in x:\n",
    "        l.append(sum(i * teta))\n",
    "    return np.array([sum(y) + u for y in l])"
   ]
  },
  {
   "cell_type": "code",
   "execution_count": 8,
   "id": "2b53f363-1f2f-41db-9c07-88c44090cebb",
   "metadata": {},
   "outputs": [],
   "source": [
    "def R(y, ypred):\n",
    "    return (1 - ( sum((y - ypred) ** 2) / sum((y - y.mean()) ** 2)) )"
   ]
  },
  {
   "cell_type": "code",
   "execution_count": 9,
   "id": "6214ad81-3145-4364-b982-4221873665f4",
   "metadata": {},
   "outputs": [
    {
     "ename": "NameError",
     "evalue": "name 'x' is not defined",
     "output_type": "error",
     "traceback": [
      "\u001b[1;31m---------------------------------------------------------------------------\u001b[0m",
      "\u001b[1;31mNameError\u001b[0m                                 Traceback (most recent call last)",
      "\u001b[1;32m<ipython-input-9-d35a6e6abbf8>\u001b[0m in \u001b[0;36m<module>\u001b[1;34m\u001b[0m\n\u001b[1;32m----> 1\u001b[1;33m \u001b[0mm\u001b[0m \u001b[1;33m=\u001b[0m \u001b[0mx\u001b[0m\u001b[1;33m.\u001b[0m\u001b[0mshape\u001b[0m\u001b[1;33m\u001b[0m\u001b[1;33m\u001b[0m\u001b[0m\n\u001b[0m\u001b[0;32m      2\u001b[0m \u001b[1;33m\u001b[0m\u001b[0m\n\u001b[0;32m      3\u001b[0m \u001b[0ma1\u001b[0m \u001b[1;33m=\u001b[0m \u001b[0mnp\u001b[0m\u001b[1;33m.\u001b[0m\u001b[0mones\u001b[0m\u001b[1;33m(\u001b[0m\u001b[0mm\u001b[0m\u001b[1;33m)\u001b[0m\u001b[1;33m\u001b[0m\u001b[1;33m\u001b[0m\u001b[0m\n\u001b[0;32m      4\u001b[0m \u001b[0ma2\u001b[0m \u001b[1;33m=\u001b[0m \u001b[0mX\u001b[0m\u001b[1;33m\u001b[0m\u001b[1;33m\u001b[0m\u001b[0m\n\u001b[0;32m      5\u001b[0m \u001b[0ma3\u001b[0m \u001b[1;33m=\u001b[0m \u001b[0mX\u001b[0m\u001b[1;33m**\u001b[0m\u001b[1;36m2\u001b[0m\u001b[1;33m\u001b[0m\u001b[1;33m\u001b[0m\u001b[0m\n",
      "\u001b[1;31mNameError\u001b[0m: name 'x' is not defined"
     ]
    }
   ],
   "source": [
    "m = x.shape\n",
    "\n",
    "a1 = np.ones(m)\n",
    "a2 = X\n",
    "a3 = X**2\n",
    "a4 = X**3\n",
    "\n",
    "A = np.column_stack((a1,a2,a3,a4))\n",
    "b = y\n",
    "coef = np.linalg.solve(A.T@A, A.T@b)\n",
    "poli = lambda t: coef[0]+coef[1]*t+coef[2]*t**2+coef[3]*t**3\n",
    "ypred = poli(x)\n",
    "\n",
    "plt.figure(figsize=(8, 5))\n",
    "plt.title(\"Gráfico de dispersão com linha de Regressão\", fontsize=18)\n",
    "plt.xlabel(\"X\", fontsize=16)\n",
    "plt.ylabel(\"Y\", fontsize=16)\n",
    "plt.plot(X, ypred,'or', X, y, '*b')\n",
    "plt.show()\n",
    "\n",
    "print(\"Coeficientes e medida de desemprenho (R2)\")\n",
    "print('a =',coef[3])\n",
    "print('b =',coef[2])\n",
    "print('c =',coef[1])\n",
    "print('d =',coef[0])\n",
    "print('R²=', R(y, ypred))"
   ]
  },
  {
   "cell_type": "markdown",
   "id": "e45b2a13-8b17-4e08-92ce-57113f515ea9",
   "metadata": {},
   "source": [
    "## 3.4 - Comparando Regressões Polinomiais"
   ]
  },
  {
   "cell_type": "code",
   "execution_count": null,
   "id": "ca071dbd-c2ee-4cfa-a7d3-f35e095140b9",
   "metadata": {},
   "outputs": [],
   "source": [
    "from sklearn.preprocessing import PolynomialFeatures"
   ]
  },
  {
   "cell_type": "code",
   "execution_count": null,
   "id": "706c1c7d-b8d0-43eb-84b8-f4627a46e49c",
   "metadata": {},
   "outputs": [],
   "source": [
    "poly_features = PolynomialFeatures(degree=7, include_bias=False)"
   ]
  },
  {
   "cell_type": "code",
   "execution_count": null,
   "id": "be3424e8-cd21-4ffc-a7b3-e6b639f12884",
   "metadata": {},
   "outputs": [],
   "source": [
    "X_poly = poly_features.fit_transform(X)"
   ]
  },
  {
   "cell_type": "code",
   "execution_count": null,
   "id": "0e2f83bb-b029-4bf5-8758-aef3210c4149",
   "metadata": {},
   "outputs": [],
   "source": [
    "from sklearn.linear_model import LinearRegression\n",
    "modelo = LinearRegression()\n",
    "modelo.fit(X_poly, y)"
   ]
  },
  {
   "cell_type": "code",
   "execution_count": null,
   "id": "230a6be9-a03a-4ee6-93b5-0619495d8145",
   "metadata": {},
   "outputs": [],
   "source": [
    "teta = modelo.coef_\n",
    "u = modelo.intercept_"
   ]
  },
  {
   "cell_type": "code",
   "execution_count": null,
   "id": "f4cde1cb-574d-4a46-954e-36639b4b57bf",
   "metadata": {},
   "outputs": [],
   "source": [
    "ypred = fpred(X_poly, teta, u)"
   ]
  },
  {
   "cell_type": "code",
   "execution_count": null,
   "id": "16153495-5bfe-49e8-be60-5e71a43d45d2",
   "metadata": {},
   "outputs": [],
   "source": [
    "plt.figure(figsize=(8, 5))\n",
    "plt.title(\"Gráfico de dispersão com linha de Regressão\", fontsize=18)\n",
    "plt.xlabel(\"X\", fontsize=16)\n",
    "plt.ylabel(\"Y\", fontsize=16)\n",
    "plt.plot(X, y,'*b', X, ypred, \"-r\")\n",
    "plt.show()"
   ]
  },
  {
   "cell_type": "code",
   "execution_count": null,
   "id": "aca9f50a-dc3a-402d-8f40-e8ebeba946db",
   "metadata": {},
   "outputs": [],
   "source": [
    "R(y, ypred)"
   ]
  }
 ],
 "metadata": {
  "kernelspec": {
   "display_name": "Python 3",
   "language": "python",
   "name": "python3"
  },
  "language_info": {
   "codemirror_mode": {
    "name": "ipython",
    "version": 3
   },
   "file_extension": ".py",
   "mimetype": "text/x-python",
   "name": "python",
   "nbconvert_exporter": "python",
   "pygments_lexer": "ipython3",
   "version": "3.8.8"
  }
 },
 "nbformat": 4,
 "nbformat_minor": 5
}
