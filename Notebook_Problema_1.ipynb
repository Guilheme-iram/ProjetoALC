{
 "cells": [
  {
   "cell_type": "markdown",
   "id": "1e79b5fc-15ed-479c-895a-812fb591aa69",
   "metadata": {},
   "source": [
    "# Projeto final de Disciplia\n",
    "### Dísciplina: Álgebra Linear Computacional\n",
    "### Orientador: Prof. Miguel Aroztegui\n",
    "### Autores: Guilherme Iram, Guilherme Pujoni"
   ]
  },
  {
   "cell_type": "markdown",
   "id": "af8232d5-2a17-452f-a841-16205e7cf43b",
   "metadata": {},
   "source": [
    "## 1 - Introdução"
   ]
  },
  {
   "cell_type": "markdown",
   "id": "55988853-1a15-4e05-93e6-c03a9bd7997d",
   "metadata": {},
   "source": [
    "O objetivo desse trabalho é resolver problemas de regressão utilizando mínimos quadrados. Nesta primeira abordagem, iremos utilizar uma aproximação por polinômios. E à vista disso, criaremos uma função preditora e a avaliaremos a sua qualidade por meio de uma medida de desempenho."
   ]
  },
  {
   "cell_type": "markdown",
   "id": "8867011b-bb11-41d6-8489-8ea4a12d7347",
   "metadata": {},
   "source": [
    "## 2 - Métodos"
   ]
  },
  {
   "cell_type": "markdown",
   "id": "66c702ac-9805-45bb-b1e8-3c900c132583",
   "metadata": {},
   "source": [
    "### Regressão pilinomial"
   ]
  },
  {
   "cell_type": "markdown",
   "id": "89ac5a6b-c32c-4e57-9aad-4c1bedcf5c3f",
   "metadata": {},
   "source": [
    "Como já descrito na introdução, utilizaremos técnicas de regressão para concluir nosso objetivo. A fórmula de uma função de regressão pode ser vista abaixo:"
   ]
  },
  {
   "attachments": {
    "03c065df-f92c-4793-a517-b122d66c7539.png": {
     "image/png": "[encoded data removed]"
    }
   },
   "cell_type": "markdown",
   "id": "5a2b7efd-f06e-4dd1-86a7-53aa755f5d34",
   "metadata": {},
   "source": [
    "![image.png](attachment:03c065df-f92c-4793-a517-b122d66c7539.png)"
   ]
  },
  {
   "cell_type": "markdown",
   "id": "1e691eda-506a-4b38-a2fb-73e2977c0135",
   "metadata": {},
   "source": [
    "onde:\n",
    "\n",
    "${\\displaystyle y_{i}}$ : Variável explicada (dependente); representa o que o modelo tentará prever\n",
    "\n",
    "${\\displaystyle \\alpha }$ : É uma constante, que representa a interceptação da reta com o eixo vertical;\n",
    "\n",
    "${\\displaystyle \\beta }$ : Representa a inclinação (coeficiente angular) em relação à variável explicativa;\n",
    "\n",
    "${\\displaystyle X_{i}}$ : Variável explicativa (independente);"
   ]
  },
  {
   "cell_type": "markdown",
   "id": "e4272fe0-17ce-4fcc-bb1b-2865d31d076e",
   "metadata": {},
   "source": [
    "- No nosso caso, como estamos tratando de uma regressão polinomial, teremos mais de 1 coeficiente e variável explicativa como insumo para nossa função preditora."
   ]
  },
  {
   "cell_type": "markdown",
   "id": "dce4e1e1-2c7e-4288-b1c2-a93cc97aa806",
   "metadata": {},
   "source": [
    "### Minimos quadrados e R²"
   ]
  },
  {
   "cell_type": "markdown",
   "id": "1f691319-2537-4bbc-b5ab-b0cbd6b73a01",
   "metadata": {},
   "source": [
    "O alvo da nossa análise sempre será minimizar a norma (distancia) entre o valor da função preditora (\"y chapeu\") e o y original utilizado para calcular os coeficientes tetas (ou betas, símbolos diferentes para o mesmo elemento). Em virtude disso, o método que adotamos como medida de ajuste do nosso modelo são os mínimos quadrados, cuja fórmula está descrita abaixo: "
   ]
  },
  {
   "attachments": {
    "c31e2277-6b27-4e39-89b8-ba105b74d4c8.png": {
     "image/png": "[encoded data removed]"
    }
   },
   "cell_type": "markdown",
   "id": "7f11338d-1278-476a-b499-daceeb55fce1",
   "metadata": {},
   "source": [
    "![image.png](attachment:c31e2277-6b27-4e39-89b8-ba105b74d4c8.png)"
   ]
  },
  {
   "cell_type": "markdown",
   "id": "5792d1cd-e40f-4159-bb2f-cfc065a36b1d",
   "metadata": {},
   "source": [
    "E como medida de desempenho cabal para avaliar a qualidade do modelo iremos utilizar o coeficiente de determinação (R²), que é um número entre 0 e 1 que mede quão bem um modelo estatístico prevê um resultado."
   ]
  },
  {
   "attachments": {
    "0e738977-a932-4625-affe-c66eea6760fe.png": {
     "image/png": "[encoded data removed]"
    }
   },
   "cell_type": "markdown",
   "id": "f47abea6-14a0-461c-9d19-95f05c06602d",
   "metadata": {
    "tags": []
   },
   "source": [
    "![image.png](attachment:0e738977-a932-4625-affe-c66eea6760fe.png)"
   ]
  },
  {
   "cell_type": "markdown",
   "id": "093ccf59-666d-4bee-9954-90c330c69d31",
   "metadata": {
    "tags": []
   },
   "source": [
    "## 3 - Código"
   ]
  },
  {
   "cell_type": "markdown",
   "id": "6a7b89ec-2f36-40da-b9c8-fab4767f3937",
   "metadata": {},
   "source": [
    "## 3.1 - Carregando as bibliotecas e o dataset"
   ]
  },
  {
   "cell_type": "code",
   "execution_count": 1,
   "id": "44f2fab0-f738-4344-a6bb-46fadfef7733",
   "metadata": {},
   "outputs": [],
   "source": [
    "import pandas as pd\n",
    "import numpy as np\n",
    "import matplotlib.pyplot as plt\n",
    "%matplotlib inline"
   ]
  },
  {
   "cell_type": "code",
   "execution_count": 2,
   "id": "618bc88a-2227-4094-b383-a1d4cfc51f75",
   "metadata": {},
   "outputs": [],
   "source": [
    "dados = pd.read_csv(\"./dados/dataset01.txt\",sep=' ')"
   ]
  },
  {
   "cell_type": "code",
   "execution_count": 3,
   "id": "05a35ca0-fec0-416a-859e-e579c7420a8a",
   "metadata": {},
   "outputs": [
    {
     "data": {
      "text/html": [
       "<div>\n",
       "<style scoped>\n",
       "    .dataframe tbody tr th:only-of-type {\n",
       "        vertical-align: middle;\n",
       "    }\n",
       "\n",
       "    .dataframe tbody tr th {\n",
       "        vertical-align: top;\n",
       "    }\n",
       "\n",
       "    .dataframe thead th {\n",
       "        text-align: right;\n",
       "    }\n",
       "</style>\n",
       "<table border=\"1\" class=\"dataframe\">\n",
       "  <thead>\n",
       "    <tr style=\"text-align: right;\">\n",
       "      <th></th>\n",
       "      <th>x</th>\n",
       "      <th>y</th>\n",
       "    </tr>\n",
       "  </thead>\n",
       "  <tbody>\n",
       "    <tr>\n",
       "      <th>0</th>\n",
       "      <td>-10.00</td>\n",
       "      <td>-0.15</td>\n",
       "    </tr>\n",
       "    <tr>\n",
       "      <th>1</th>\n",
       "      <td>-9.59</td>\n",
       "      <td>0.56</td>\n",
       "    </tr>\n",
       "    <tr>\n",
       "      <th>2</th>\n",
       "      <td>-9.18</td>\n",
       "      <td>-0.33</td>\n",
       "    </tr>\n",
       "    <tr>\n",
       "      <th>3</th>\n",
       "      <td>-8.78</td>\n",
       "      <td>0.26</td>\n",
       "    </tr>\n",
       "    <tr>\n",
       "      <th>4</th>\n",
       "      <td>-8.37</td>\n",
       "      <td>-0.26</td>\n",
       "    </tr>\n",
       "  </tbody>\n",
       "</table>\n",
       "</div>"
      ],
      "text/plain": [
       "       x     y\n",
       "0 -10.00 -0.15\n",
       "1  -9.59  0.56\n",
       "2  -9.18 -0.33\n",
       "3  -8.78  0.26\n",
       "4  -8.37 -0.26"
      ]
     },
     "execution_count": 3,
     "metadata": {},
     "output_type": "execute_result"
    }
   ],
   "source": [
    "dados.head()"
   ]
  },
  {
   "cell_type": "code",
   "execution_count": 4,
   "id": "830a3464-300e-4735-bbd7-245d5faa07c6",
   "metadata": {},
   "outputs": [
    {
     "name": "stdout",
     "output_type": "stream",
     "text": [
      "<class 'pandas.core.frame.DataFrame'>\n",
      "RangeIndex: 50 entries, 0 to 49\n",
      "Data columns (total 2 columns):\n",
      " #   Column  Non-Null Count  Dtype  \n",
      "---  ------  --------------  -----  \n",
      " 0   x       50 non-null     float64\n",
      " 1   y       50 non-null     float64\n",
      "dtypes: float64(2)\n",
      "memory usage: 928.0 bytes\n"
     ]
    }
   ],
   "source": [
    "dados.info()"
   ]
  },
  {
   "cell_type": "code",
   "execution_count": 5,
   "id": "1ad66e2a-80c2-4039-8388-bafdc8267660",
   "metadata": {},
   "outputs": [
    {
     "data": {
      "text/html": [
       "<div>\n",
       "<style scoped>\n",
       "    .dataframe tbody tr th:only-of-type {\n",
       "        vertical-align: middle;\n",
       "    }\n",
       "\n",
       "    .dataframe tbody tr th {\n",
       "        vertical-align: top;\n",
       "    }\n",
       "\n",
       "    .dataframe thead th {\n",
       "        text-align: right;\n",
       "    }\n",
       "</style>\n",
       "<table border=\"1\" class=\"dataframe\">\n",
       "  <thead>\n",
       "    <tr style=\"text-align: right;\">\n",
       "      <th></th>\n",
       "      <th>x</th>\n",
       "      <th>y</th>\n",
       "    </tr>\n",
       "  </thead>\n",
       "  <tbody>\n",
       "    <tr>\n",
       "      <th>count</th>\n",
       "      <td>5.000000e+01</td>\n",
       "      <td>50.000000</td>\n",
       "    </tr>\n",
       "    <tr>\n",
       "      <th>mean</th>\n",
       "      <td>7.105427e-17</td>\n",
       "      <td>0.955000</td>\n",
       "    </tr>\n",
       "    <tr>\n",
       "      <th>std</th>\n",
       "      <td>5.949756e+00</td>\n",
       "      <td>1.155661</td>\n",
       "    </tr>\n",
       "    <tr>\n",
       "      <th>min</th>\n",
       "      <td>-1.000000e+01</td>\n",
       "      <td>-1.320000</td>\n",
       "    </tr>\n",
       "    <tr>\n",
       "      <th>25%</th>\n",
       "      <td>-4.997500e+00</td>\n",
       "      <td>0.095000</td>\n",
       "    </tr>\n",
       "    <tr>\n",
       "      <th>50%</th>\n",
       "      <td>0.000000e+00</td>\n",
       "      <td>0.685000</td>\n",
       "    </tr>\n",
       "    <tr>\n",
       "      <th>75%</th>\n",
       "      <td>4.997500e+00</td>\n",
       "      <td>1.840000</td>\n",
       "    </tr>\n",
       "    <tr>\n",
       "      <th>max</th>\n",
       "      <td>1.000000e+01</td>\n",
       "      <td>4.090000</td>\n",
       "    </tr>\n",
       "  </tbody>\n",
       "</table>\n",
       "</div>"
      ],
      "text/plain": [
       "                  x          y\n",
       "count  5.000000e+01  50.000000\n",
       "mean   7.105427e-17   0.955000\n",
       "std    5.949756e+00   1.155661\n",
       "min   -1.000000e+01  -1.320000\n",
       "25%   -4.997500e+00   0.095000\n",
       "50%    0.000000e+00   0.685000\n",
       "75%    4.997500e+00   1.840000\n",
       "max    1.000000e+01   4.090000"
      ]
     },
     "execution_count": 5,
     "metadata": {},
     "output_type": "execute_result"
    }
   ],
   "source": [
    "dados.describe()"
   ]
  },
  {
   "cell_type": "markdown",
   "id": "472e3102-74cf-4fa8-b96a-983419ba9950",
   "metadata": {},
   "source": [
    "## 3.2 - Análise exploratória e vizualização dos dados"
   ]
  },
  {
   "cell_type": "code",
   "execution_count": 6,
   "id": "32bc4a8b-d3e6-49b0-bb9c-f30c9be69af5",
   "metadata": {},
   "outputs": [],
   "source": [
    "X, y = np.array(dados['x']), np.array(dados['y'])\n",
    "X = X.reshape(-1, 1)\n",
    "y = y.reshape(-1, 1)"
   ]
  },
  {
   "cell_type": "code",
   "execution_count": 7,
   "id": "63f4387a-74de-4876-b923-5c25c5e57a29",
   "metadata": {},
   "outputs": [
    {
     "data": {
      "image/png": "[encoded data removed]",
      "text/plain": [
       "<Figure size 576x360 with 1 Axes>"
      ]
     },
     "metadata": {
      "needs_background": "light"
     },
     "output_type": "display_data"
    }
   ],
   "source": [
    "plt.figure(figsize=(8, 5))\n",
    "plt.title(\"Gráfico de dispersão dos dados\", fontsize=18)\n",
    "plt.xlabel(\"X\", fontsize=16)\n",
    "plt.ylabel(\"Y\", fontsize=16)\n",
    "plt.plot(X, y, '*b')\n",
    "plt.show()"
   ]
  },
  {
   "cell_type": "markdown",
   "id": "4063aa86-ae1c-47c7-bccc-ac6e08f58347",
   "metadata": {},
   "source": [
    "## 3.3 - Aplicando Regressão Polinomial"
   ]
  },
  {
   "cell_type": "code",
   "execution_count": 8,
   "id": "a5ffca72-a565-4261-baf3-bb8fb4987ff2",
   "metadata": {},
   "outputs": [],
   "source": [
    "def fpred(x, teta, u):\n",
    "    l = []\n",
    "    for i in x:\n",
    "        l.append(sum(i * teta))\n",
    "    return np.array([sum(y) + u for y in l])"
   ]
  },
  {
   "cell_type": "code",
   "execution_count": 9,
   "id": "2b53f363-1f2f-41db-9c07-88c44090cebb",
   "metadata": {},
   "outputs": [],
   "source": [
    "def R(y, ypred):\n",
    "    return (1 - ( sum((y - ypred) ** 2) / sum((y - y.mean()) ** 2)) )"
   ]
  },
  {
   "cell_type": "code",
   "execution_count": 40,
   "id": "6214ad81-3145-4364-b982-4221873665f4",
   "metadata": {},
   "outputs": [
    {
     "data": {
      "image/png": "[encoded data removed]",
      "text/plain": [
       "<Figure size 576x360 with 1 Axes>"
      ]
     },
     "metadata": {
      "needs_background": "light"
     },
     "output_type": "display_data"
    },
    {
     "name": "stdout",
     "output_type": "stream",
     "text": [
      "Coeficientes e medida de desemprenho (R2)\n",
      "a = [-0.00311704]\n",
      "b = [-0.02290078]\n",
      "c = [0.26312635]\n",
      "d = [1.74946465]\n",
      "R²= [0.70041989]\n"
     ]
    }
   ],
   "source": [
    "m = X.shape\n",
    "a1 = np.ones(m)\n",
    "a2 = X\n",
    "a3 = X**2\n",
    "a4 = X**3\n",
    "\n",
    "A = np.column_stack((a1,a2,a3,a4))\n",
    "b = y\n",
    "coef = np.linalg.solve(A.T@A, A.T@b)\n",
    "poli = lambda t: coef[0]+coef[1]*t+coef[2]*t**2+coef[3]*t**3\n",
    "ypred = poli(X)\n",
    "\n",
    "plt.figure(figsize=(8, 5))\n",
    "plt.title(\"Gráfico de dispersão com linha de Regressão - GERAL\", fontsize=18)\n",
    "plt.xlabel(\"X\", fontsize=16)\n",
    "plt.ylabel(\"Y\", fontsize=16)\n",
    "plt.plot(X, ypred,'or', X, y, '*b')\n",
    "plt.show()\n",
    "\n",
    "print(\"Coeficientes e medida de desemprenho (R2)\")\n",
    "print('a =',coef[3])\n",
    "print('b =',coef[2])\n",
    "print('c =',coef[1])\n",
    "print('d =',coef[0])\n",
    "print('R²=', R(y, ypred))"
   ]
  },
  {
   "cell_type": "code",
   "execution_count": 41,
   "id": "a96d8f84-d716-4f95-b9a5-71929104cb3c",
   "metadata": {},
   "outputs": [
    {
     "data": {
      "image/png": "[encoded data removed]",
      "text/plain": [
       "<Figure size 576x360 with 1 Axes>"
      ]
     },
     "metadata": {
      "needs_background": "light"
     },
     "output_type": "display_data"
    },
    {
     "name": "stdout",
     "output_type": "stream",
     "text": [
      "Coeficientes e medida de desemprenho (R2)\n",
      "a = [-0.00330749]\n",
      "b = [-0.02297773]\n",
      "c = [0.26710152]\n",
      "d = [1.68705896]\n",
      "R²= [0.69568171]\n"
     ]
    }
   ],
   "source": [
    "from sklearn.model_selection import train_test_split\n",
    "X_train, X_test, y_train, y_test = train_test_split(\n",
    "    X, y, test_size=0.20, random_state=42)\n",
    "\n",
    "m = X_train.shape\n",
    "a1 = np.ones(m)\n",
    "a2 = X_train\n",
    "a3 = X_train**2\n",
    "a4 = X_train**3\n",
    "\n",
    "A = np.column_stack((a1,a2,a3,a4))\n",
    "b = y_train\n",
    "\n",
    "coef = np.linalg.solve(A.T@A, A.T@b)\n",
    "\n",
    "poli = lambda t: coef[0]+coef[1]*t+coef[2]*t**2+coef[3]*t**3\n",
    "\n",
    "ypred = poli(X_train)\n",
    "\n",
    "plt.figure(figsize=(8, 5))\n",
    "plt.title(\"Gráfico de dispersão com linha de Regressão - TREINO\", fontsize=18)\n",
    "plt.xlabel(\"X\", fontsize=16)\n",
    "plt.ylabel(\"Y\", fontsize=16)\n",
    "\n",
    "plt.plot(X_train, ypred,'or', X_train, y_train, '*b')\n",
    "plt.show()\n",
    "\n",
    "print(\"Coeficientes e medida de desemprenho (R2)\")\n",
    "print('a =',coef[3])\n",
    "print('b =',coef[2])\n",
    "print('c =',coef[1])\n",
    "print('d =',coef[0])\n",
    "print('R²=', R(y_train, ypred))"
   ]
  },
  {
   "cell_type": "code",
   "execution_count": 42,
   "id": "a05c836d-c1f4-4adf-b292-65d7fe9ee10d",
   "metadata": {},
   "outputs": [
    {
     "data": {
      "image/png": "[encoded data removed]",
      "text/plain": [
       "<Figure size 576x360 with 1 Axes>"
      ]
     },
     "metadata": {
      "needs_background": "light"
     },
     "output_type": "display_data"
    },
    {
     "name": "stdout",
     "output_type": "stream",
     "text": [
      "Medida de desemprenho (R2)\n",
      "R²= [0.59255494]\n"
     ]
    }
   ],
   "source": [
    "ypred = poli(X_test)\n",
    "\n",
    "plt.figure(figsize=(8, 5))\n",
    "plt.title(\"Gráfico de dispersão com linha de Regressão - TESTE\", fontsize=18)\n",
    "plt.xlabel(\"X\", fontsize=16)\n",
    "plt.ylabel(\"Y\", fontsize=16)\n",
    "\n",
    "plt.plot(X_test, ypred,'or', X_test, y_test, '*b')\n",
    "plt.show()\n",
    "\n",
    "print(\"Medida de desemprenho (R2)\")\n",
    "\n",
    "print('R²=', R(y_test, ypred))\n"
   ]
  },
  {
   "cell_type": "markdown",
   "id": "e45b2a13-8b17-4e08-92ce-57113f515ea9",
   "metadata": {},
   "source": [
    "## 3.4 - Comparando Regressões Polinomiais"
   ]
  },
  {
   "cell_type": "code",
   "execution_count": 27,
   "id": "ca071dbd-c2ee-4cfa-a7d3-f35e095140b9",
   "metadata": {},
   "outputs": [],
   "source": [
    "from sklearn.preprocessing import PolynomialFeatures"
   ]
  },
  {
   "cell_type": "code",
   "execution_count": 28,
   "id": "706c1c7d-b8d0-43eb-84b8-f4627a46e49c",
   "metadata": {},
   "outputs": [],
   "source": [
    "poly_features = PolynomialFeatures(degree=3, include_bias=False)"
   ]
  },
  {
   "cell_type": "code",
   "execution_count": 29,
   "id": "be3424e8-cd21-4ffc-a7b3-e6b639f12884",
   "metadata": {},
   "outputs": [],
   "source": [
    "X_poly = poly_features.fit_transform(X_train)"
   ]
  },
  {
   "cell_type": "code",
   "execution_count": 30,
   "id": "0e2f83bb-b029-4bf5-8758-aef3210c4149",
   "metadata": {},
   "outputs": [
    {
     "data": {
      "text/plain": [
       "LinearRegression()"
      ]
     },
     "execution_count": 30,
     "metadata": {},
     "output_type": "execute_result"
    }
   ],
   "source": [
    "from sklearn.linear_model import LinearRegression\n",
    "modelo = LinearRegression()\n",
    "modelo.fit(X_poly, y_train)"
   ]
  },
  {
   "cell_type": "code",
   "execution_count": 31,
   "id": "230a6be9-a03a-4ee6-93b5-0619495d8145",
   "metadata": {},
   "outputs": [],
   "source": [
    "teta = modelo.coef_\n",
    "u = modelo.intercept_"
   ]
  },
  {
   "cell_type": "code",
   "execution_count": 32,
   "id": "f4cde1cb-574d-4a46-954e-36639b4b57bf",
   "metadata": {},
   "outputs": [],
   "source": [
    "ypred = fpred(X_poly, teta, u)"
   ]
  },
  {
   "cell_type": "code",
   "execution_count": 33,
   "id": "16153495-5bfe-49e8-be60-5e71a43d45d2",
   "metadata": {},
   "outputs": [
    {
     "data": {
      "image/png": "[encoded data removed]",
      "text/plain": [
       "<Figure size 576x360 with 1 Axes>"
      ]
     },
     "metadata": {
      "needs_background": "light"
     },
     "output_type": "display_data"
    }
   ],
   "source": [
    "plt.figure(figsize=(8, 5))\n",
    "plt.title(\"Gráfico de dispersão com linha de Regressão - TESTE\", fontsize=18)\n",
    "plt.xlabel(\"X\", fontsize=16)\n",
    "plt.ylabel(\"Y\", fontsize=16)\n",
    "plt.plot(X_train, y_train,'*b', X_train, ypred, \"or\")\n",
    "plt.show()"
   ]
  },
  {
   "cell_type": "code",
   "execution_count": 34,
   "id": "aca9f50a-dc3a-402d-8f40-e8ebeba946db",
   "metadata": {},
   "outputs": [
    {
     "data": {
      "text/plain": [
       "array([0.69568171])"
      ]
     },
     "execution_count": 34,
     "metadata": {},
     "output_type": "execute_result"
    }
   ],
   "source": [
    "R(y_train, ypred)"
   ]
  },
  {
   "cell_type": "code",
   "execution_count": 35,
   "id": "0dcb8986-3f95-4572-91e0-58f12df44630",
   "metadata": {},
   "outputs": [],
   "source": [
    "X_poly = poly_features.fit_transform(X_test)\n",
    "ypred = fpred(X_poly, teta, u)"
   ]
  },
  {
   "cell_type": "code",
   "execution_count": 36,
   "id": "7159158a-265f-4799-a2eb-27fa3e17f044",
   "metadata": {},
   "outputs": [
    {
     "data": {
      "image/png": "[encoded data removed]",
      "text/plain": [
       "<Figure size 576x360 with 1 Axes>"
      ]
     },
     "metadata": {
      "needs_background": "light"
     },
     "output_type": "display_data"
    }
   ],
   "source": [
    "plt.figure(figsize=(8, 5))\n",
    "plt.title(\"Gráfico de dispersão com linha de Regressão - TESTE\", fontsize=18)\n",
    "plt.xlabel(\"X\", fontsize=16)\n",
    "plt.ylabel(\"Y\", fontsize=16)\n",
    "plt.plot(X_test, y_test,'*b', X_test, ypred, \"or\")\n",
    "plt.show()"
   ]
  },
  {
   "cell_type": "code",
   "execution_count": 37,
   "id": "1e09f702-e122-4fbb-92a3-f9208a92b421",
   "metadata": {},
   "outputs": [
    {
     "data": {
      "text/plain": [
       "array([0.59255494])"
      ]
     },
     "execution_count": 37,
     "metadata": {},
     "output_type": "execute_result"
    }
   ],
   "source": [
    "R(y_test, ypred)"
   ]
  },
  {
   "cell_type": "markdown",
   "id": "7182e7e2-2f24-46e0-b99b-3584c858bfba",
   "metadata": {},
   "source": [
    "## 4 - Análise dos resultados"
   ]
  },
  {
   "cell_type": "code",
   "execution_count": null,
   "id": "88a884be-dcea-4dbc-994f-3677fd15c99d",
   "metadata": {},
   "outputs": [],
   "source": []
  }
 ],
 "metadata": {
  "kernelspec": {
   "display_name": "Python 3",
   "language": "python",
   "name": "python3"
  },
  "language_info": {
   "codemirror_mode": {
    "name": "ipython",
    "version": 3
   },
   "file_extension": ".py",
   "mimetype": "text/x-python",
   "name": "python",
   "nbconvert_exporter": "python",
   "pygments_lexer": "ipython3",
   "version": "3.8.8"
  }
 },
 "nbformat": 4,
 "nbformat_minor": 5
}
